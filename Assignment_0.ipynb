{
  "nbformat": 4,
  "nbformat_minor": 0,
  "metadata": {
    "colab": {
      "provenance": [],
      "authorship_tag": "ABX9TyOZ6fa/UEg88sB4lecKQMsr",
      "include_colab_link": true
    },
    "kernelspec": {
      "name": "python3",
      "display_name": "Python 3"
    },
    "language_info": {
      "name": "python"
    }
  },
  "cells": [
    {
      "cell_type": "markdown",
      "metadata": {
        "id": "view-in-github",
        "colab_type": "text"
      },
      "source": [
        "<a href=\"https://colab.research.google.com/github/Nasomjaiwilawan/Assignment0/blob/main/Assignment_0.ipynb\" target=\"_parent\"><img src=\"https://colab.research.google.com/assets/colab-badge.svg\" alt=\"Open In Colab\"/></a>"
      ]
    },
    {
      "cell_type": "markdown",
      "source": [
        "Consider a sequence of n Bernoulli trials with success probabilty p per trial. A\n",
        "string of consecutive successes is known as a success run. Write a function that\n",
        "returns the counts for runs of length k for each k observed in a dictionary."
      ],
      "metadata": {
        "id": "s-zGrlw06KMG"
      }
    },
    {
      "cell_type": "code",
      "source": [
        "#วิธีที่1\n",
        "p = 1\n",
        "pk = []\n",
        "for k in range(1,10-1):\n",
        "    pk += [p*(1-p)**(k-1)]\n",
        "print(pk)"
      ],
      "metadata": {
        "colab": {
          "base_uri": "https://localhost:8080/"
        },
        "id": "_rl1ZTzJ1Vc0",
        "outputId": "99c374ae-a5ca-493b-f17e-9ae3c1ec5b7c"
      },
      "execution_count": null,
      "outputs": [
        {
          "output_type": "stream",
          "name": "stdout",
          "text": [
            "[1, 0, 0, 0, 0, 0, 0, 0]\n"
          ]
        }
      ]
    },
    {
      "cell_type": "code",
      "source": [
        "#วิธีที่2\n",
        "import random\n",
        "from collections import Counter\n",
        "pk = []\n",
        "for i in range(100000):\n",
        "    k = 0\n",
        "    samret = 0\n",
        "    while(samret==0):\n",
        "        k += 1\n",
        "        if(random.randint(0,1)==1):\n",
        "            samret = 1\n",
        "    pk += [k]\n",
        "\n",
        "print(Counter(pk))"
      ],
      "metadata": {
        "colab": {
          "base_uri": "https://localhost:8080/"
        },
        "id": "3JLCiX_p2eTu",
        "outputId": "1aaeb01d-f873-49d2-dfdb-89cab127a792"
      },
      "execution_count": null,
      "outputs": [
        {
          "output_type": "stream",
          "name": "stdout",
          "text": [
            "Counter({1: 49776, 2: 24944, 3: 12595, 4: 6345, 5: 3176, 6: 1601, 7: 806, 8: 358, 9: 190, 10: 97, 11: 45, 12: 31, 13: 16, 14: 14, 15: 3, 17: 2, 16: 1})\n"
          ]
        }
      ]
    },
    {
      "cell_type": "markdown",
      "source": [
        "Continuing from Part 1, what is the probability of observing at least one run of\n",
        "length 5 or more when n=100 and p=0.5?. Estimate this from 100,000\n",
        "simulated experiments. Is this more, less or equally likely than finding runs of\n",
        "length 7 or more when p=0.7 ?"
      ],
      "metadata": {
        "id": "jAdVuRP-6UmL"
      }
    },
    {
      "cell_type": "code",
      "source": [
        "import random\n",
        "\n",
        "def has_run_of_length_n(sequence, n):\n",
        "    for i in range(len(sequence) - n + 1):\n",
        "        if all(sequence[i + j] for j in range(n)):\n",
        "            return True\n",
        "        if all(not sequence[i + j] for j in range(n)):\n",
        "            return True\n",
        "    return False\n",
        "\n",
        "def simulate_runs_of_length_n(num_experiments, n, p):\n",
        "    count = 0\n",
        "    for _ in range(num_experiments):\n",
        "        sequence = [random.random() < p for _ in range(100)]\n",
        "        if has_run_of_length_n(sequence, n):\n",
        "            count += 1\n",
        "    return count / num_experiments\n",
        "\n",
        "# Simulate runs of length 5 or more with p=0.5\n",
        "probability_run_5_or_more = simulate_runs_of_length_n(100000, 5, 0.5)\n",
        "print(\"Probability of observing at least one run of length 5 or more with p=0.5:\", probability_run_5_or_more)\n"
      ],
      "metadata": {
        "colab": {
          "base_uri": "https://localhost:8080/"
        },
        "id": "723n4iDx45VJ",
        "outputId": "3824b868-24b1-4dce-89a5-74ee9cd771aa"
      },
      "execution_count": null,
      "outputs": [
        {
          "output_type": "stream",
          "name": "stdout",
          "text": [
            "Probability of observing at least one run of length 5 or more with p=0.5: 0.97087\n"
          ]
        }
      ]
    },
    {
      "cell_type": "code",
      "source": [
        "# Simulate runs of length 7 or more with p=0.7\n",
        "probability_run_7_or_more = simulate_runs_of_length_n(100000, 7, 0.7)\n",
        "print(\"Probability of observing at least one run of length 7 or more with p=0.7:\", probability_run_7_or_more)"
      ],
      "metadata": {
        "colab": {
          "base_uri": "https://localhost:8080/"
        },
        "id": "_FIXfG2P5WFY",
        "outputId": "02d4a5ba-ca1a-4472-f966-a8601ac6f2e0"
      },
      "execution_count": null,
      "outputs": [
        {
          "output_type": "stream",
          "name": "stdout",
          "text": [
            "Probability of observing at least one run of length 7 or more with p=0.7: 0.94917\n"
          ]
        }
      ]
    }
  ]
}